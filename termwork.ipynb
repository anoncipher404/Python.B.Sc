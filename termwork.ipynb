{
 "cells": [
  {
   "cell_type": "markdown",
   "id": "ea0fe770",
   "metadata": {},
   "source": [
    "# TermWork Assignment 2.0\n"
   ]
  },
  {
   "cell_type": "markdown",
   "id": "6770b9ad",
   "metadata": {},
   "source": [
    "Question 1:\n",
    "Write a Python function that accepts a string and counts the number of upper and lower case letters.\n",
    "Sample String : 'The quick Brow Fox'\n",
    "Expected Output :\n",
    "No. of Upper case characters : 3\n",
    "No. of Lower case Characters : 12"
   ]
  },
  {
   "cell_type": "code",
   "execution_count": 6,
   "id": "88bbc15b",
   "metadata": {},
   "outputs": [
    {
     "name": "stdout",
     "output_type": "stream",
     "text": [
      "Enter a Stringhello\n",
      "The total number of lower case is = 5\n",
      "The total number of upper case is = 0\n"
     ]
    }
   ],
   "source": [
    "def checks(string):\n",
    "    upper=0\n",
    "    lower=0\n",
    "    for char in string:\n",
    "        if char.isupper():\n",
    "            upper=upper+1\n",
    "        elif char.islower():\n",
    "            lower=lower+1\n",
    "    print(\"The total number of lower case is =\",lower)\n",
    "    print(\"The total number of upper case is =\",upper)\n",
    "\n",
    "string=str(input(\"Enter a String\"))\n",
    "checks(string)\n",
    "    "
   ]
  },
  {
   "cell_type": "markdown",
   "id": "32c38961",
   "metadata": {},
   "source": [
    "Question2: Write a Python function that takes a list and returns a new list with distinct elements from the first list.\n",
    "Sample List : [1,2,3,3,3,3,4,5]\n",
    "Unique List : [1, 2, 3, 4, 5]"
   ]
  },
  {
   "cell_type": "code",
   "execution_count": 20,
   "id": "bf8d6df0",
   "metadata": {},
   "outputs": [
    {
     "name": "stdout",
     "output_type": "stream",
     "text": [
      "user enter a list :3223\n",
      "input list was : ['3', '2', '2', '3']\n",
      "output list is : ['2', '3']\n"
     ]
    }
   ],
   "source": [
    "def uni(ls):\n",
    "    st=set(ls)\n",
    "    ll=list(st)\n",
    "   \n",
    "    print(\"output list is :\",ll)\n",
    "   \n",
    "    \n",
    "ls=list(input(\"user enter a list :\"))\n",
    "print(\"input list was :\",ls)\n",
    "uni(ls)"
   ]
  },
  {
   "cell_type": "markdown",
   "id": "3b9e6fc6",
   "metadata": {},
   "source": [
    "Question 3:    3. Write a Python function to check whether a number is \"Perfect\" or not.\n",
    "Example : The first perfect number is 6, because 1, 2, and 3 are its proper positive divisors, and 1 + 2 + 3 = 6. Equivalently, the number 6 is equal to half the sum of all its positive divisors: ( 1 + 2 + 3 + 6 ) / 2 = 6. The next perfect number is 28 = 1 + 2 + 4 + 7 + 14. This is followed by the perfect numbers 496 and 8128. "
   ]
  },
  {
   "cell_type": "code",
   "execution_count": null,
   "id": "8085db83",
   "metadata": {},
   "outputs": [],
   "source": [
    "def perfect(num):\n",
    "    \n",
    "    \n",
    "num=int(input(\"enter a number :\"))\n",
    "perfect(num)\n"
   ]
  }
 ],
 "metadata": {
  "kernelspec": {
   "display_name": "Python 3 (ipykernel)",
   "language": "python",
   "name": "python3"
  },
  "language_info": {
   "codemirror_mode": {
    "name": "ipython",
    "version": 3
   },
   "file_extension": ".py",
   "mimetype": "text/x-python",
   "name": "python",
   "nbconvert_exporter": "python",
   "pygments_lexer": "ipython3",
   "version": "3.11.2"
  }
 },
 "nbformat": 4,
 "nbformat_minor": 5
}
